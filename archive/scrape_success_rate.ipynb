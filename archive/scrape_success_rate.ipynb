{
 "cells": [
  {
   "cell_type": "code",
   "execution_count": 1,
   "id": "1d69abdd-bc63-47e0-9398-739abec68237",
   "metadata": {},
   "outputs": [
    {
     "name": "stderr",
     "output_type": "stream",
     "text": [
      "<frozen importlib._bootstrap>:228: RuntimeWarning: scipy._lib.messagestream.MessageStream size changed, may indicate binary incompatibility. Expected 56 from C header, got 64 from PyObject\n"
     ]
    }
   ],
   "source": [
    "import pandas as pd\n",
    "import numpy as np\n",
    "import requests\n",
    "from bs4 import BeautifulSoup\n",
    "from selenium import webdriver\n",
    "from selenium.webdriver.chrome.options import Options\n",
    "from selenium.webdriver.chrome.service import Service\n",
    "from selenium.webdriver.common.by import By\n",
    "from webdriver_manager.chrome import ChromeDriverManager\n",
    "from urllib.parse import urlparse, parse_qs\n",
    "from datetime import datetime, timedelta\n",
    "import html2text\n",
    "import time\n",
    "import re\n",
    "import matplotlib.pyplot as plt\n",
    "import seaborn as sns"
   ]
  },
  {
   "cell_type": "code",
   "execution_count": 26,
   "id": "ff3a8903-53eb-4520-82f1-a8d1f77a1e03",
   "metadata": {},
   "outputs": [],
   "source": [
    "def success_rate(url, orders):\n",
    "    headers = {\n",
    "        'User-Agent': 'Mozilla/5.0 (X11; CrOS x86_64 8172.45.0) AppleWebKit/537.36 (KHTML, like Gecko) Chrome/51.0.2704.64 Safari/537.36',\n",
    "        'Accept-Language': 'en-US, en;q=0.5'\n",
    "    }\n",
    "    \n",
    "    names = []\n",
    "    for order in orders:\n",
    "        url_new = url.replace('order=popularity', order)\n",
    "    \n",
    "        response = requests.get(url_new, headers=headers)\n",
    "        soup = BeautifulSoup(response.text, 'html.parser')\n",
    "        \n",
    "        html = soup.prettify()\n",
    "        text_maker = html2text.HTML2Text()\n",
    "        text_maker.ignore_links = False  # Keep links\n",
    "        text_maker.body_width = 0        # Don't wrap lines\n",
    "        \n",
    "        page_text = text_maker.handle(html)\n",
    "        \n",
    "        # Find number of properties\n",
    "        properties = int(page_text.split('\\n# ')[1].split(':')[1].split('properties found')[0].replace(',', '').strip())\n",
    "        # print(properties)\n",
    "        \n",
    "        # Scrape HTML content of all pages\n",
    "        page_list = [page_text]\n",
    "        # if properties > 200:\n",
    "        #     for i in range(2):\n",
    "        #         # print(i)\n",
    "        #         url_new = url + '&offset={}'.format((i+1)*25)\n",
    "        #         response = requests.get(url_new, headers=headers)\n",
    "        #         soup = BeautifulSoup(response.text, 'html.parser')\n",
    "        #         html = soup.prettify()\n",
    "        #         text_maker = html2text.HTML2Text()\n",
    "        #         text_maker.ignore_links = False\n",
    "        #         text_maker.body_width = 0\n",
    "        #         text = text_maker.handle(html)\n",
    "        #         page_list.append(text)\n",
    "        \n",
    "        for page in page_list:\n",
    "            hotels = page.split('\\n### ')\n",
    "            for hotel in hotels:\n",
    "                try:\n",
    "                    name = hotel.split('Opens in new')[0].split('[')[1].strip()\n",
    "                    names.append(name)\n",
    "                except:\n",
    "                    continue\n",
    "    \n",
    "    names = set(names)\n",
    "    names = [n for n in names if len(n) < 100]\n",
    "    success_rate = round(100*(len(names)/properties), 1)\n",
    "    print(f'{len(names)}/{properties} Hotels Scraped - {success_rate}%')\n",
    "\n",
    "    return names"
   ]
  },
  {
   "cell_type": "code",
   "execution_count": 32,
   "id": "6f64a68a-0635-46ac-b51a-16e01396c797",
   "metadata": {},
   "outputs": [],
   "source": [
    "orders = ['order=popularity', 'order=price', 'order=price_from_high_to_low',\n",
    "          'order=class', 'order=class_asc', 'order=distance_from_search', 'order=review_score_and_price']"
   ]
  },
  {
   "cell_type": "code",
   "execution_count": 33,
   "id": "d003d156-6d96-4a3c-b333-38f3d8a4cb52",
   "metadata": {},
   "outputs": [
    {
     "name": "stdout",
     "output_type": "stream",
     "text": [
      "75/81 Hotels Scraped - 92.6%\n"
     ]
    }
   ],
   "source": [
    "orders = ['order=popularity', 'order=price', 'order=price_from_high_to_low',\n",
    "          'order=class', 'order=class_asc', 'order=distance_from_search']\n",
    "url = 'https://www.booking.com/searchresults.en-gb.html?label=gen173nr-1FCAEoggI46AdIM1gEaFCIAQGYAQm4ARnIAQzYAQHoAQH4AQ2IAgGoAgO4AtKAk8AGwAIB0gIkMDdkMTgwNTQtNDNjMS00YjBmLWE3Y2ItMjVjZTFmOTkyMzBh2AIG4AIB&sid=8bd3ce886640970a93855d9ffdfd4543&aid=304142&ss=Amsterdam+City+Centre%2C+Amsterdam%2C+Noord-Holland%2C+Netherlands&map=1&efdco=1&lang=en-gb&dest_id=145&dest_type=district&ac_position=1&ac_click_type=b&ac_langcode=en&ac_suggestion_list_length=5&search_selected=true&search_pageview_id=42a34466b7e00601&checkin=2025-05-15&checkout=2025-05-19&group_adults=2&no_rooms=1&group_children=0&nflt=mealplan%3D1%3Breview_score%3D70%3Bht_id%3D204&order=popularity'\n",
    "\n",
    "hotel_names = success_rate(url, orders)"
   ]
  },
  {
   "cell_type": "code",
   "execution_count": 38,
   "id": "278d0f80-32b4-463b-9b51-6f8f940fddcc",
   "metadata": {},
   "outputs": [
    {
     "name": "stdout",
     "output_type": "stream",
     "text": [
      "35/80 Hotels Scraped - 43.8%\n",
      "Execution Time: 26s\n"
     ]
    }
   ],
   "source": [
    "orders = ['order=popularity']\n",
    "url = 'https://www.booking.com/searchresults.en-gb.html?label=gen173nr-1FCAEoggI46AdIM1gEaFCIAQGYAQm4ARnIAQzYAQHoAQH4AQ2IAgGoAgO4AtKAk8AGwAIB0gIkMDdkMTgwNTQtNDNjMS00YjBmLWE3Y2ItMjVjZTFmOTkyMzBh2AIG4AIB&sid=8bd3ce886640970a93855d9ffdfd4543&aid=304142&ss=Amsterdam+City+Centre%2C+Amsterdam%2C+Noord-Holland%2C+Netherlands&map=1&efdco=1&lang=en-gb&dest_id=145&dest_type=district&ac_position=1&ac_click_type=b&ac_langcode=en&ac_suggestion_list_length=5&search_selected=true&search_pageview_id=42a34466b7e00601&checkin=2025-05-15&checkout=2025-05-19&group_adults=2&no_rooms=1&group_children=0&nflt=mealplan%3D1%3Breview_score%3D70%3Bht_id%3D204&order=popularity'\n",
    "\n",
    "start_time = time.time()\n",
    "hotel_names = success_rate(url, orders)\n",
    "end_time = time.time()\n",
    "\n",
    "print('Execution Time: '+ str(round(end_time - start_time)) + 's')"
   ]
  },
  {
   "cell_type": "code",
   "execution_count": 39,
   "id": "5b9f7789-6d6b-441c-bc28-ecade06bb0c1",
   "metadata": {},
   "outputs": [
    {
     "name": "stdout",
     "output_type": "stream",
     "text": [
      "50/80 Hotels Scraped - 62.5%\n",
      "Execution Time: 44s\n"
     ]
    }
   ],
   "source": [
    "orders = ['order=popularity', 'order=price']\n",
    "url = 'https://www.booking.com/searchresults.en-gb.html?label=gen173nr-1FCAEoggI46AdIM1gEaFCIAQGYAQm4ARnIAQzYAQHoAQH4AQ2IAgGoAgO4AtKAk8AGwAIB0gIkMDdkMTgwNTQtNDNjMS00YjBmLWE3Y2ItMjVjZTFmOTkyMzBh2AIG4AIB&sid=8bd3ce886640970a93855d9ffdfd4543&aid=304142&ss=Amsterdam+City+Centre%2C+Amsterdam%2C+Noord-Holland%2C+Netherlands&map=1&efdco=1&lang=en-gb&dest_id=145&dest_type=district&ac_position=1&ac_click_type=b&ac_langcode=en&ac_suggestion_list_length=5&search_selected=true&search_pageview_id=42a34466b7e00601&checkin=2025-05-15&checkout=2025-05-19&group_adults=2&no_rooms=1&group_children=0&nflt=mealplan%3D1%3Breview_score%3D70%3Bht_id%3D204&order=popularity'\n",
    "\n",
    "start_time = time.time()\n",
    "hotel_names = success_rate(url, orders)\n",
    "end_time = time.time()\n",
    "\n",
    "print('Execution Time: '+ str(round(end_time - start_time)) + 's')"
   ]
  },
  {
   "cell_type": "code",
   "execution_count": 40,
   "id": "8756a7ed-50ae-47fd-87df-7d12f85724f6",
   "metadata": {},
   "outputs": [
    {
     "name": "stdout",
     "output_type": "stream",
     "text": [
      "72/80 Hotels Scraped - 90.0%\n",
      "Execution Time: 66s\n"
     ]
    }
   ],
   "source": [
    "orders = ['order=popularity', 'order=price', 'order=price_from_high_to_low']\n",
    "url = 'https://www.booking.com/searchresults.en-gb.html?label=gen173nr-1FCAEoggI46AdIM1gEaFCIAQGYAQm4ARnIAQzYAQHoAQH4AQ2IAgGoAgO4AtKAk8AGwAIB0gIkMDdkMTgwNTQtNDNjMS00YjBmLWE3Y2ItMjVjZTFmOTkyMzBh2AIG4AIB&sid=8bd3ce886640970a93855d9ffdfd4543&aid=304142&ss=Amsterdam+City+Centre%2C+Amsterdam%2C+Noord-Holland%2C+Netherlands&map=1&efdco=1&lang=en-gb&dest_id=145&dest_type=district&ac_position=1&ac_click_type=b&ac_langcode=en&ac_suggestion_list_length=5&search_selected=true&search_pageview_id=42a34466b7e00601&checkin=2025-05-15&checkout=2025-05-19&group_adults=2&no_rooms=1&group_children=0&nflt=mealplan%3D1%3Breview_score%3D70%3Bht_id%3D204&order=popularity'\n",
    "\n",
    "start_time = time.time()\n",
    "hotel_names = success_rate(url, orders)\n",
    "end_time = time.time()\n",
    "\n",
    "print('Execution Time: '+ str(round(end_time - start_time)) + 's')"
   ]
  },
  {
   "cell_type": "code",
   "execution_count": 41,
   "id": "75c59d89-3b84-4d93-8fd0-b726c8e957af",
   "metadata": {},
   "outputs": [
    {
     "name": "stdout",
     "output_type": "stream",
     "text": [
      "64/77 Hotels Scraped - 83.1%\n",
      "Execution Time: 43s\n"
     ]
    }
   ],
   "source": [
    "orders = ['order=price', 'order=price_from_high_to_low']\n",
    "url = 'https://www.booking.com/searchresults.en-gb.html?label=gen173nr-1FCAEoggI46AdIM1gEaFCIAQGYAQm4ARnIAQzYAQHoAQH4AQ2IAgGoAgO4AtKAk8AGwAIB0gIkMDdkMTgwNTQtNDNjMS00YjBmLWE3Y2ItMjVjZTFmOTkyMzBh2AIG4AIB&sid=8bd3ce886640970a93855d9ffdfd4543&aid=304142&ss=Amsterdam+City+Centre%2C+Amsterdam%2C+Noord-Holland%2C+Netherlands&map=1&efdco=1&lang=en-gb&dest_id=145&dest_type=district&ac_position=1&ac_click_type=b&ac_langcode=en&ac_suggestion_list_length=5&search_selected=true&search_pageview_id=42a34466b7e00601&checkin=2025-05-15&checkout=2025-05-19&group_adults=2&no_rooms=1&group_children=0&nflt=mealplan%3D1%3Breview_score%3D70%3Bht_id%3D204&order=popularity'\n",
    "\n",
    "start_time = time.time()\n",
    "hotel_names = success_rate(url, orders)\n",
    "end_time = time.time()\n",
    "\n",
    "print('Execution Time: '+ str(round(end_time - start_time)) + 's')"
   ]
  },
  {
   "cell_type": "code",
   "execution_count": null,
   "id": "51e2d71a-e457-4da2-a537-d8844f694416",
   "metadata": {},
   "outputs": [],
   "source": []
  },
  {
   "cell_type": "code",
   "execution_count": 7,
   "id": "30f58a13-1388-4754-b728-5995eff4a8f7",
   "metadata": {},
   "outputs": [
    {
     "name": "stdout",
     "output_type": "stream",
     "text": [
      "806\n",
      "0\n",
      "1\n",
      "2\n",
      "3\n",
      "4\n",
      "5\n",
      "6\n",
      "7\n",
      "8\n",
      "9\n",
      "10\n",
      "11\n",
      "12\n",
      "13\n",
      "14\n",
      "15\n",
      "16\n",
      "17\n",
      "18\n",
      "19\n",
      "20\n",
      "21\n",
      "22\n",
      "23\n",
      "24\n",
      "25\n",
      "26\n",
      "27\n",
      "28\n",
      "29\n",
      "30\n",
      "31\n",
      "94/806 Hotels Scraped - 11.7%\n",
      "Execution Time: 209s\n"
     ]
    }
   ],
   "source": [
    "orders = ['order=popularity']\n",
    "url = 'https://www.booking.com/searchresults.en-gb.html?label=gen173nr-1BCAEoggI46AdIM1gEaFCIAQGYAQm4ARnIAQzYAQHoAQGIAgGoAgO4AoHu3MAGwAIB0gIkZTliODY5MWYtYzRmOC00Y2Y2LWE5OTItZGEyY2ExZWRlYWI12AIF4AIB&sid=8bd3ce886640970a93855d9ffdfd4543&aid=304142&ss=London%2C+Greater+London%2C+United+Kingdom&ssne=Amsterdam+City+Centre&ssne_untouched=Amsterdam+City+Centre&lang=en-gb&dest_id=-2601889&dest_type=city&ac_position=0&ac_click_type=b&ac_langcode=en&ac_suggestion_list_length=5&search_selected=true&search_pageview_id=a8c844812b050855&checkin=2025-05-15&checkout=2025-05-19&group_adults=2&no_rooms=1&group_children=0&order=popularity&nflt=review_score%3D70%3Bht_id%3D204'\n",
    "\n",
    "start_time = time.time()\n",
    "hotel_names = success_rate(url, orders)\n",
    "end_time = time.time()\n",
    "\n",
    "print('Execution Time: '+ str(round(end_time - start_time)) + 's')"
   ]
  },
  {
   "cell_type": "code",
   "execution_count": 10,
   "id": "4a04dc8b-cdc0-4162-9e1a-39837479f79b",
   "metadata": {},
   "outputs": [
    {
     "name": "stdout",
     "output_type": "stream",
     "text": [
      "166/807 Hotels Scraped - 20.6%\n",
      "Execution Time: 441s\n"
     ]
    }
   ],
   "source": [
    "orders = ['order=price', 'order=price_from_high_to_low']\n",
    "url = 'https://www.booking.com/searchresults.en-gb.html?label=gen173nr-1BCAEoggI46AdIM1gEaFCIAQGYAQm4ARnIAQzYAQHoAQGIAgGoAgO4AoHu3MAGwAIB0gIkZTliODY5MWYtYzRmOC00Y2Y2LWE5OTItZGEyY2ExZWRlYWI12AIF4AIB&sid=8bd3ce886640970a93855d9ffdfd4543&aid=304142&ss=London%2C+Greater+London%2C+United+Kingdom&ssne=Amsterdam+City+Centre&ssne_untouched=Amsterdam+City+Centre&lang=en-gb&dest_id=-2601889&dest_type=city&ac_position=0&ac_click_type=b&ac_langcode=en&ac_suggestion_list_length=5&search_selected=true&search_pageview_id=a8c844812b050855&checkin=2025-05-15&checkout=2025-05-19&group_adults=2&no_rooms=1&group_children=0&order=popularity&nflt=review_score%3D70%3Bht_id%3D204'\n",
    "\n",
    "start_time = time.time()\n",
    "hotel_names = success_rate(url, orders)\n",
    "end_time = time.time()\n",
    "\n",
    "print('Execution Time: '+ str(round(end_time - start_time)) + 's')"
   ]
  },
  {
   "cell_type": "code",
   "execution_count": null,
   "id": "038e9ff9-5779-47d1-8d33-eef01b33adb3",
   "metadata": {},
   "outputs": [],
   "source": []
  },
  {
   "cell_type": "code",
   "execution_count": 13,
   "id": "15041426-5e32-484d-9693-5aea1e4f3619",
   "metadata": {},
   "outputs": [
    {
     "name": "stdout",
     "output_type": "stream",
     "text": [
      "50/82 Hotels Scraped - 61.0%\n",
      "Execution Time: 11s\n"
     ]
    }
   ],
   "source": [
    "orders = ['order=price', 'order=price_from_high_to_low']\n",
    "url = 'https://www.booking.com/searchresults.en-gb.html?label=gen173nr-1FCAEoggI46AdIM1gEaFCIAQGYAQm4ARnIAQzYAQHoAQH4AQ2IAgGoAgO4AtKAk8AGwAIB0gIkMDdkMTgwNTQtNDNjMS00YjBmLWE3Y2ItMjVjZTFmOTkyMzBh2AIG4AIB&sid=8bd3ce886640970a93855d9ffdfd4543&aid=304142&ss=Amsterdam+City+Centre%2C+Amsterdam%2C+Noord-Holland%2C+Netherlands&map=1&efdco=1&lang=en-gb&dest_id=145&dest_type=district&ac_position=1&ac_click_type=b&ac_langcode=en&ac_suggestion_list_length=5&search_selected=true&search_pageview_id=42a34466b7e00601&checkin=2025-05-15&checkout=2025-05-19&group_adults=2&no_rooms=1&group_children=0&nflt=mealplan%3D1%3Breview_score%3D70%3Bht_id%3D204&order=popularity'\n",
    "\n",
    "start_time = time.time()\n",
    "hotel_names = success_rate(url, orders)\n",
    "end_time = time.time()\n",
    "\n",
    "print('Execution Time: '+ str(round(end_time - start_time)) + 's')"
   ]
  },
  {
   "cell_type": "code",
   "execution_count": 25,
   "id": "c7533a9b-5ad1-4b3a-a132-e05b8b49cace",
   "metadata": {},
   "outputs": [
    {
     "name": "stdout",
     "output_type": "stream",
     "text": [
      "60/81 Hotels Scraped - 74.1%\n",
      "Execution Time: 16s\n"
     ]
    }
   ],
   "source": [
    "orders = ['order=price', 'order=price_from_high_to_low', 'order=review_score_and_price']\n",
    "url = 'https://www.booking.com/searchresults.en-gb.html?label=gen173nr-1FCAEoggI46AdIM1gEaFCIAQGYAQm4ARnIAQzYAQHoAQH4AQ2IAgGoAgO4AtKAk8AGwAIB0gIkMDdkMTgwNTQtNDNjMS00YjBmLWE3Y2ItMjVjZTFmOTkyMzBh2AIG4AIB&sid=8bd3ce886640970a93855d9ffdfd4543&aid=304142&ss=Amsterdam+City+Centre%2C+Amsterdam%2C+Noord-Holland%2C+Netherlands&map=1&efdco=1&lang=en-gb&dest_id=145&dest_type=district&ac_position=1&ac_click_type=b&ac_langcode=en&ac_suggestion_list_length=5&search_selected=true&search_pageview_id=42a34466b7e00601&checkin=2025-05-15&checkout=2025-05-19&group_adults=2&no_rooms=1&group_children=0&nflt=mealplan%3D1%3Breview_score%3D70%3Bht_id%3D204&order=popularity'\n",
    "\n",
    "start_time = time.time()\n",
    "hotel_names = success_rate(url, orders)\n",
    "end_time = time.time()\n",
    "\n",
    "print('Execution Time: '+ str(round(end_time - start_time)) + 's')"
   ]
  },
  {
   "cell_type": "code",
   "execution_count": null,
   "id": "f3287f7e-3e3c-45fd-8273-a6bd1445a189",
   "metadata": {},
   "outputs": [],
   "source": []
  },
  {
   "cell_type": "code",
   "execution_count": 21,
   "id": "15840a26-9053-439e-bca1-87f94c2fe893",
   "metadata": {},
   "outputs": [
    {
     "name": "stdout",
     "output_type": "stream",
     "text": [
      "108/808 Hotels Scraped - 13.4%\n",
      "Execution Time: 51s\n"
     ]
    }
   ],
   "source": [
    "orders = ['order=price', 'order=price_from_high_to_low', 'order=review_score_and_price']\n",
    "url = 'https://www.booking.com/searchresults.en-gb.html?label=gen173nr-1BCAEoggI46AdIM1gEaFCIAQGYAQm4ARnIAQzYAQHoAQGIAgGoAgO4AoHu3MAGwAIB0gIkZTliODY5MWYtYzRmOC00Y2Y2LWE5OTItZGEyY2ExZWRlYWI12AIF4AIB&sid=8bd3ce886640970a93855d9ffdfd4543&aid=304142&ss=London%2C+Greater+London%2C+United+Kingdom&ssne=Amsterdam+City+Centre&ssne_untouched=Amsterdam+City+Centre&lang=en-gb&dest_id=-2601889&dest_type=city&ac_position=0&ac_click_type=b&ac_langcode=en&ac_suggestion_list_length=5&search_selected=true&search_pageview_id=a8c844812b050855&checkin=2025-05-15&checkout=2025-05-19&group_adults=2&no_rooms=1&group_children=0&order=popularity&nflt=review_score%3D70%3Bht_id%3D204'\n",
    "\n",
    "start_time = time.time()\n",
    "hotel_names = success_rate(url, orders)\n",
    "end_time = time.time()\n",
    "\n",
    "print('Execution Time: '+ str(round(end_time - start_time)) + 's')"
   ]
  },
  {
   "cell_type": "code",
   "execution_count": 27,
   "id": "eb55b480-93dd-4e04-a1e9-3e3d47363ae9",
   "metadata": {},
   "outputs": [
    {
     "name": "stdout",
     "output_type": "stream",
     "text": [
      "25/81 Hotels Scraped - 30.9%\n",
      "Execution Time: 7s\n"
     ]
    }
   ],
   "source": [
    "orders = ['order=review_score_and_price']\n",
    "url = 'https://www.booking.com/searchresults.en-gb.html?label=gen173nr-1FCAEoggI46AdIM1gEaFCIAQGYAQm4ARnIAQzYAQHoAQH4AQ2IAgGoAgO4AtKAk8AGwAIB0gIkMDdkMTgwNTQtNDNjMS00YjBmLWE3Y2ItMjVjZTFmOTkyMzBh2AIG4AIB&sid=8bd3ce886640970a93855d9ffdfd4543&aid=304142&ss=Amsterdam+City+Centre%2C+Amsterdam%2C+Noord-Holland%2C+Netherlands&map=1&efdco=1&lang=en-gb&dest_id=145&dest_type=district&ac_position=1&ac_click_type=b&ac_langcode=en&ac_suggestion_list_length=5&search_selected=true&search_pageview_id=42a34466b7e00601&checkin=2025-05-15&checkout=2025-05-19&group_adults=2&no_rooms=1&group_children=0&nflt=mealplan%3D1%3Breview_score%3D70%3Bht_id%3D204&order=popularity'\n",
    "\n",
    "start_time = time.time()\n",
    "hotel_names = success_rate(url, orders)\n",
    "end_time = time.time()\n",
    "\n",
    "print('Execution Time: '+ str(round(end_time - start_time)) + 's')"
   ]
  },
  {
   "cell_type": "code",
   "execution_count": 28,
   "id": "98fe627e-8658-48a7-8d98-6b7d0eb36b85",
   "metadata": {},
   "outputs": [
    {
     "name": "stdout",
     "output_type": "stream",
     "text": [
      "25/809 Hotels Scraped - 3.1%\n",
      "Execution Time: 7s\n"
     ]
    }
   ],
   "source": [
    "orders = ['order=review_score_and_price']\n",
    "url = 'https://www.booking.com/searchresults.en-gb.html?label=gen173nr-1BCAEoggI46AdIM1gEaFCIAQGYAQm4ARnIAQzYAQHoAQGIAgGoAgO4AoHu3MAGwAIB0gIkZTliODY5MWYtYzRmOC00Y2Y2LWE5OTItZGEyY2ExZWRlYWI12AIF4AIB&sid=8bd3ce886640970a93855d9ffdfd4543&aid=304142&ss=London%2C+Greater+London%2C+United+Kingdom&ssne=Amsterdam+City+Centre&ssne_untouched=Amsterdam+City+Centre&lang=en-gb&dest_id=-2601889&dest_type=city&ac_position=0&ac_click_type=b&ac_langcode=en&ac_suggestion_list_length=5&search_selected=true&search_pageview_id=a8c844812b050855&checkin=2025-05-15&checkout=2025-05-19&group_adults=2&no_rooms=1&group_children=0&order=popularity&nflt=review_score%3D70%3Bht_id%3D204'\n",
    "\n",
    "start_time = time.time()\n",
    "hotel_names = success_rate(url, orders)\n",
    "end_time = time.time()\n",
    "\n",
    "print('Execution Time: '+ str(round(end_time - start_time)) + 's')"
   ]
  },
  {
   "cell_type": "code",
   "execution_count": null,
   "id": "d2f3dac4-6821-498a-a6c7-05e99a1b2faf",
   "metadata": {},
   "outputs": [],
   "source": []
  }
 ],
 "metadata": {
  "kernelspec": {
   "display_name": "Python 3 (ipykernel)",
   "language": "python",
   "name": "python3"
  },
  "language_info": {
   "codemirror_mode": {
    "name": "ipython",
    "version": 3
   },
   "file_extension": ".py",
   "mimetype": "text/x-python",
   "name": "python",
   "nbconvert_exporter": "python",
   "pygments_lexer": "ipython3",
   "version": "3.9.7"
  }
 },
 "nbformat": 4,
 "nbformat_minor": 5
}
